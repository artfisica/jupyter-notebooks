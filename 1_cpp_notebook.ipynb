{
 "cells": [
  {
   "cell_type": "markdown",
   "metadata": {},
   "source": [
    "<CENTER><img src=\"opendata-top-transblack.png\" style=\"width:50%\"></CENTER>"
   ]
  },
  {
   "cell_type": "markdown",
   "metadata": {},
   "source": [
    "# A simple introductional notebook in C++\n",
    "### In this notebook you can find an easy program that shows the basic high energy physics (HEP) analysis techniques. It also shows how to create a histogram, fill it and draw it. At the end you get a plot with the number of leptons."
   ]
  },
  {
   "cell_type": "markdown",
   "metadata": {},
   "source": [
    "At first we have to include several helpers that will support our analysis."
   ]
  },
  {
   "cell_type": "code",
   "execution_count": 1,
   "metadata": {
    "collapsed": true
   },
   "outputs": [],
   "source": [
    "#include <iostream>\n",
    "#include <string>\n",
    "#include <stdio.h>"
   ]
  },
  {
   "cell_type": "markdown",
   "metadata": {},
   "source": [
    "In order to activate the interactive visualisation of the histogram that is later created we can use the JSROOT magic:"
   ]
  },
  {
   "cell_type": "code",
   "execution_count": 2,
   "metadata": {
    "collapsed": true
   },
   "outputs": [],
   "source": [
    "%jsroot on"
   ]
  },
  {
   "cell_type": "markdown",
   "metadata": {},
   "source": [
    "Next we have to open the data that we want to analyse. As described above the data is stored in a .root file."
   ]
  },
  {
   "cell_type": "code",
   "execution_count": 3,
   "metadata": {
    "collapsed": true
   },
   "outputs": [],
   "source": [
    "TFile *_file0 = TFile::Open(\"mc_147770.Zee.root\");"
   ]
  },
  {
   "cell_type": "code",
   "execution_count": 4,
   "metadata": {},
   "outputs": [
    {
     "name": "stderr",
     "output_type": "stream",
     "text": [
      "input_line_63:4:22: error: expected ';' at end of declaration\n",
      "Int_t   lepton_n = -1,\n",
      "                     ^\n",
      "                     ;\n",
      "input_line_63:6:1: error: use of undeclared identifier 'dataset'\n",
      "dataset->SetBranchAddress(\"lep_n\", &lepton_n);\n",
      "^\n"
     ]
    }
   ],
   "source": [
    "const int vs = 5;\n",
    "\n",
    "Int_t   lepton_n = -1,\n",
    "\n",
    "dataset->SetBranchAddress(\"lep_n\", &lepton_n);"
   ]
  },
  {
   "cell_type": "markdown",
   "metadata": {},
   "source": [
    "After the data is opened we create a canvas c on which we can draw a histogram."
   ]
  },
  {
   "cell_type": "code",
   "execution_count": 5,
   "metadata": {
    "collapsed": true
   },
   "outputs": [],
   "source": [
    "TCanvas *c = new TCanvas(\"c\",\"c\",10,10,700,700);"
   ]
  },
  {
   "cell_type": "markdown",
   "metadata": {},
   "source": [
    "The next step is to define a tree named t to get the data out of the .root file."
   ]
  },
  {
   "cell_type": "code",
   "execution_count": 6,
   "metadata": {
    "collapsed": true
   },
   "outputs": [],
   "source": [
    "TTree *tree = new TTree(\"tree\",\"data from root file\");"
   ]
  },
  {
   "cell_type": "markdown",
   "metadata": {},
   "source": [
    "Now we define a histogram that will later lie on this canvas. Its name is variable and the header of the histogram is Example plot: Number of leptons. The three following numbers say that this histogram contains 4 so called bins that are going from 0 to 4."
   ]
  },
  {
   "cell_type": "code",
   "execution_count": 7,
   "metadata": {
    "collapsed": true
   },
   "outputs": [],
   "source": [
    "TH1F *h = new TH1F(\"variable\",\"Example plot: Number of leptons\",4,0,4);"
   ]
  },
  {
   "cell_type": "code",
   "execution_count": null,
   "metadata": {},
   "outputs": [
    {
     "name": "stderr",
     "output_type": "stream",
     "text": [
      "In file included from input_line_11:21:\n",
      "In file included from /cvmfs/sft.cern.ch/lcg/releases/ROOT/6.10.06-77228/x86_64-slc6-gcc62-opt/etc/../etc/dictpch/allHeaders.h:253:\n",
      "/cvmfs/sft.cern.ch/lcg/releases/ROOT/6.10.06-77228/x86_64-slc6-gcc62-opt/etc/cling/Interpreter/RuntimeUniverse.h:48:7: error: cannot initialize an array element of type 'void *' with an rvalue of type 'void (*)(cling::runtime::internal::DynamicExprInfo *, clang::DeclContext *)'\n",
      "      int InterpreterGeneratedCodeDiagnosticsMaybeIncorrect;\n",
      "      ^~~\n"
     ]
    }
   ],
   "source": [
    "int nentries, nbytes, i;\n",
    "nentries = (Int_t)dataset->GetEntries();"
   ]
  },
  {
   "cell_type": "markdown",
   "metadata": {},
   "source": [
    "The following lines are a loop that goes over the data that is stored in t and fills the histogram h that we already defined. In this first notebook we don't do any Cuts to keep it simple. After the program has looped over all the data it gives the word Done! out."
   ]
  },
  {
   "cell_type": "code",
   "execution_count": null,
   "metadata": {},
   "outputs": [
    {
     "name": "stderr",
     "output_type": "stream",
     "text": [
      "\n",
      " *** Break *** segmentation violation\n"
     ]
    }
   ],
   "source": [
    "for (i = 0; i < nentries; i++)\n",
    "{\n",
    "    nbytes = dataset->GetEntry(i);\n",
    "    h->Fill(lepton_n);\n",
    "}"
   ]
  },
  {
   "cell_type": "markdown",
   "metadata": {},
   "source": [
    "After filling the histogram we want to see the results of the analysis. So first we let draw the histogram and then the canvas on which the histogram lies."
   ]
  },
  {
   "cell_type": "code",
   "execution_count": null,
   "metadata": {
    "collapsed": true
   },
   "outputs": [],
   "source": [
    "h->Draw();\n",
    "c->Draw();"
   ]
  }
 ],
 "metadata": {
  "kernelspec": {
   "display_name": "ROOT C++",
   "language": "c++",
   "name": "root"
  },
  "language_info": {
   "codemirror_mode": "text/x-c++src",
   "file_extension": ".C",
   "mimetype": " text/x-c++src",
   "name": "c++"
  }
 },
 "nbformat": 4,
 "nbformat_minor": 2
}
