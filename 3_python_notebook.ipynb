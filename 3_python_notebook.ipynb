{
 "cells": [
  {
   "cell_type": "markdown",
   "metadata": {},
   "source": [
    "<img src=\"opendata-top-transblack.png\" style=\"width:50%\">"
   ]
  },
  {
   "cell_type": "markdown",
   "metadata": {},
   "source": [
    "# A Z prime boson analysis notebook in python\n",
    "### In this notebook you can find a program that shows even more high energy physics (HEP) analysis techniques. It is an analysis searching for events where so called hypothetical [Z-prime bosons](https://en.wikipedia.org/wiki/W'_and_Z'_bosons) decay into a top-antitop pair that decays into other particles."
   ]
  },
  {
   "cell_type": "markdown",
   "metadata": {},
   "source": [
    "<img src=\"Z-prime Zerfall.PNG\" style=\"width:50%\">"
   ]
  },
  {
   "cell_type": "markdown",
   "metadata": {},
   "source": [
    "So first of all - like we did it in the first notebook - ROOT is imported to read the so called _.root_ data. Moreover _math_ is imported to help during the analysis."
   ]
  },
  {
   "cell_type": "code",
   "execution_count": 25,
   "metadata": {
    "collapsed": true
   },
   "outputs": [],
   "source": [
    "import ROOT\n",
    "import math"
   ]
  },
  {
   "cell_type": "markdown",
   "metadata": {},
   "source": [
    "In order to activate the interactive visualisation of the histogram that is later created we can use the JSROOT magic:"
   ]
  },
  {
   "cell_type": "code",
   "execution_count": 33,
   "metadata": {
    "collapsed": true
   },
   "outputs": [],
   "source": [
    "%jsroot on"
   ]
  },
  {
   "cell_type": "markdown",
   "metadata": {},
   "source": [
    "Next we have to open the data that we want to analyse (_.root_-file)."
   ]
  },
  {
   "cell_type": "code",
   "execution_count": 26,
   "metadata": {
    "collapsed": true
   },
   "outputs": [],
   "source": [
    "#f = ROOT.TFile.Open(\"http://opendata.atlas.cern/release/samples/MC/mc_147770.Zee.root\")\n",
    "f = ROOT.TFile.Open(\"mc_105986.ZZ.root\")"
   ]
  },
  {
   "cell_type": "markdown",
   "metadata": {},
   "source": [
    "After the data is opened we create a canvas _c_ on which we can draw a histogram."
   ]
  },
  {
   "cell_type": "code",
   "execution_count": 27,
   "metadata": {},
   "outputs": [
    {
     "name": "stderr",
     "output_type": "stream",
     "text": [
      "Warning in <TCanvas::Constructor>: Deleting canvas with same name: Canvas\n"
     ]
    }
   ],
   "source": [
    "c = ROOT.TCanvas(\"Canvas\",\"Z-prime boson Analysis\",800,1500)"
   ]
  },
  {
   "cell_type": "code",
   "execution_count": 28,
   "metadata": {
    "collapsed": true
   },
   "outputs": [],
   "source": [
    "t = f.Get(\"mini\")"
   ]
  },
  {
   "cell_type": "markdown",
   "metadata": {},
   "source": [
    "Now we define a histogram that is later lying on this canvas. Its name is _variable_ and the header of the histogram is _Example plot: Mass of the Z boson_. The three following numbers say that this histogram contains of 100 so called bins that are going from 50 to 130."
   ]
  },
  {
   "cell_type": "code",
   "execution_count": 29,
   "metadata": {},
   "outputs": [
    {
     "name": "stderr",
     "output_type": "stream",
     "text": [
      "Warning in <TFile::Append>: Replacing existing TH1: variable (Potential memory leak).\n",
      "Warning in <TFile::Append>: Replacing existing TH1: variable (Potential memory leak).\n",
      "Warning in <TFile::Append>: Replacing existing TH1: variable (Potential memory leak).\n",
      "Warning in <TFile::Append>: Replacing existing TH1: variable (Potential memory leak).\n",
      "Warning in <TFile::Append>: Replacing existing TH1: variable (Potential memory leak).\n",
      "Warning in <TFile::Append>: Replacing existing TH1: variable (Potential memory leak).\n",
      "Warning in <TFile::Append>: Replacing existing TH1: variable (Potential memory leak).\n"
     ]
    }
   ],
   "source": [
    "h1 = ROOT.TH1F(\"variable\",\"etmiss\",30,0,500)\n",
    "h2 = ROOT.TH1F(\"variable\",\"n_b_jets\",5,0,5)\n",
    "h3 = ROOT.TH1F(\"variable\",\"mTW\",30,0,150)\n",
    "h4 = ROOT.TH1F(\"variable\",\"mWhadr\",30,0,150)\n",
    "h5 = ROOT.TH1F(\"variable\",\"varmassWhadr\",15,0,60)\n",
    "h6 = ROOT.TH1F(\"variable\",\"disttt\",30,0,4)\n",
    "h7 = ROOT.TH1F(\"variable\",\"masstophadr\",50,0,500)\n",
    "h8 = ROOT.TH1F(\"variable\",\"M1T\",50,0,3000)"
   ]
  },
  {
   "cell_type": "code",
   "execution_count": null,
   "metadata": {
    "collapsed": true
   },
   "outputs": [],
   "source": [
    "def goodLeptons\n",
    "\n",
    "def goodJets"
   ]
  },
  {
   "cell_type": "markdown",
   "metadata": {},
   "source": [
    "The following lines are a loop that goes over the data and fills the tree _t_ that we already defined. We also do some cuts to select only the interesting data."
   ]
  },
  {
   "cell_type": "code",
   "execution_count": 30,
   "metadata": {
    "collapsed": true
   },
   "outputs": [],
   "source": [
    "for event in t:\n",
    "    if not (t.met_et > 150): continue\n",
    "    \n",
    "    # apply standard event based selection\n",
    "    #if not AH.StandardEventCuts(eventinfo): continue\n",
    "    \n",
    "    # Lepton Requirements\n",
    "    if not (t.lep_n == 1): continue\n",
    "    \n",
    "    # Jet Requirements\n",
    "    if not (t.jet_n >= 4): continue\n",
    "    \n",
    "    # b-tag\n",
    "    n_b_jets = sum([1 for jet in goodJets if t.jet_MV1 >= 0.7892])\n",
    "    if n_b_jets != 1 and n_b_jets != 2: continue\n",
    "    \n",
    "    #Creating 2 lists: one with all b-Jets, the other with all other jets\n",
    "    b_jets = []\n",
    "    light_jets = []\n",
    "    for jet in goodJets:\n",
    "        if jet.mv1() >= 0.7892:\n",
    "            b_jets.append(jet)\n",
    "        else: light_jets.append(jet)\n",
    "\n",
    "    #list for calculating invariant mass\n",
    "    signal_jets = b_jets + light_jets\n",
    "    signal_jets = signal_jets[0:4]\n",
    "\n",
    "    lepton = goodLeptons[0]\n",
    "    mTW = math.sqrt(2*t.lep_pt*t.met_et*(1-math.cos(lepton.tlv().DeltaPhi(t.met_et.tlv()))))\n",
    "    if not mTW > 30: continue;\n",
    "    if not mTW + t.met_et.et() > 60: continue\n",
    "\n",
    "    # reconstruction of hadronic W\n",
    "    if len(b_jets) == 1:\n",
    "        variation = None # current smallest Wmass variation from jet masses\n",
    "        bjet1 = b_jets[0].tlv()\n",
    "        for (i,j) in [[0,1],[0,2],[1,2]]:\n",
    "            Wmassvar = abs((light_jets[i].tlv() + light_jets[j].tlv()).M() - 80.4)\n",
    "            if variation == None or Wmassvar < variation:\n",
    "                variation = Wmassvar\n",
    "                indice = [0,1,2]\n",
    "                indice.remove(i)\n",
    "                indice.remove(j)\n",
    "                bjet2 = light_jets[indice[0]].tlv()\n",
    "                Wjet1 = light_jets[i].tlv()\n",
    "                Wjet2 = light_jets[j].tlv()\n",
    "    else:\n",
    "        bjet1 = b_jets[0].tlv()\n",
    "        bjet2 = b_jets[1].tlv()\n",
    "        Wjet1 = light_jets[0].tlv()\n",
    "        Wjet2 = light_jets[1].tlv()\n",
    "        variation = abs((light_jets[0].tlv() + light_jets[1].tlv()).M() - 80.4)\n",
    "    Whadr = Wjet1 + Wjet2\n",
    "    Wlept = lepton.tlv() + etmiss.tlv() # only properties in transverse plane because of missing pz of neutrino\n",
    "    massWhadr = (Wjet1 + Wjet2).M()\n",
    "\n",
    "    # reconstruction of the top quarks by choosing which W goes with which bottom quark\n",
    "    bhadr = ROOT.TLorentzVector()\n",
    "    blept = None\n",
    "    dist1 = bjet1.DeltaR(Whadr)\n",
    "    dist2 = bjet2.DeltaR(Whadr)\n",
    "    if dist1 < dist2:\n",
    "        bhadr = bjet1\n",
    "        blept = bjet2\n",
    "    else: #(dist2 < dist1)\n",
    "        bhadr = bjet2\n",
    "        blept = bjet1\n",
    "    tophadr = Whadr + bhadr\n",
    "    toplept = Wlept + blept\n",
    "    disttt = tophadr.DeltaPhi(toplept) # DeltaPhi = angle in transverse plane\n",
    "    \n",
    "    # calculating transverse mass 1 (objectsum --> vector of five particles)\n",
    "    objectsum = signal_jets[0].tlv() + signal_jets[1].tlv() + signal_jets[2].tlv() + signal_jets[3].tlv() + goodLeptons[0].tlv()\n",
    "   \n",
    "    TransverseEnergy = (math.sqrt((objectsum.M()**2) + (objectsum.Pt()**2)) + (t.met_et.tlv()).Pt())**2\n",
    "    TransverseImpuls = ((objectsum + t.met_et.tlv()).Pt())**2\n",
    "    M1T = math.sqrt(TransverseEnergy - TransverseImpuls)\n",
    "    \n",
    "    h1.Fill(t.met_et)\n",
    "    h2.Fill(n_b_jets)\n",
    "    h3.Fill(mTW)\n",
    "    h4.Fill(Whadr.M())\n",
    "    h5.Fill(variation)\n",
    "    h6.Fill(disttt)\n",
    "    h7.Fill(tophadr.M())\n",
    "    h8.Fill(M1T)"
   ]
  },
  {
   "cell_type": "markdown",
   "metadata": {},
   "source": [
    "After filling the tree we want to see the results of the analysis. So first we let draw the histogram and then the canvas on which the histogram lies."
   ]
  },
  {
   "cell_type": "code",
   "execution_count": 31,
   "metadata": {
    "collapsed": true
   },
   "outputs": [],
   "source": [
    "c.Divide(2,4)\n",
    "c.cd(1)\n",
    "h1.Draw()\n",
    "c.cd(2)\n",
    "h2.Draw()\n",
    "c.cd(3)\n",
    "h3.Draw()\n",
    "c.cd(4)\n",
    "h4.Draw()\n",
    "c.cd(5)\n",
    "h5.Draw()\n",
    "c.cd(6)\n",
    "h6.Draw()\n",
    "c.cd(7)\n",
    "h7.Draw()\n",
    "c.cd(8)\n",
    "h8.Draw()"
   ]
  },
  {
   "cell_type": "code",
   "execution_count": 32,
   "metadata": {},
   "outputs": [
    {
     "data": {
      "image/png": "[encoded data removed]",
      "text/plain": [
       "<IPython.core.display.Image object>"
      ]
     },
     "metadata": {},
     "output_type": "display_data"
    }
   ],
   "source": [
    "c.Draw()"
   ]
  }
 ],
 "metadata": {
  "kernelspec": {
   "display_name": "Python 2",
   "language": "python",
   "name": "python2"
  },
  "language_info": {
   "codemirror_mode": {
    "name": "ipython",
    "version": 2
   },
   "file_extension": ".py",
   "mimetype": "text/x-python",
   "name": "python",
   "nbconvert_exporter": "python",
   "pygments_lexer": "ipython2",
   "version": "2.7.13"
  }
 },
 "nbformat": 4,
 "nbformat_minor": 2
}
